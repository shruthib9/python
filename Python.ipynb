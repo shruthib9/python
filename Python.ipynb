{
  "nbformat": 4,
  "nbformat_minor": 0,
  "metadata": {
    "colab": {
      "provenance": [],
      "authorship_tag": "ABX9TyNZsPA/rpU12Fi7lZy30d6S",
      "include_colab_link": true
    },
    "kernelspec": {
      "name": "python3",
      "display_name": "Python 3"
    },
    "language_info": {
      "name": "python"
    }
  },
  "cells": [
    {
      "cell_type": "markdown",
      "metadata": {
        "id": "view-in-github",
        "colab_type": "text"
      },
      "source": [
        "<a href=\"https://colab.research.google.com/github/shruthib9/python/blob/main/Python.ipynb\" target=\"_parent\"><img src=\"https://colab.research.google.com/assets/colab-badge.svg\" alt=\"Open In Colab\"/></a>"
      ]
    },
    {
      "cell_type": "code",
      "execution_count": 1,
      "metadata": {
        "id": "cQD0IHv2M-xf",
        "outputId": "972409f4-b2c5-4307-95e8-8bfc3edaffa3",
        "colab": {
          "base_uri": "https://localhost:8080/"
        }
      },
      "outputs": [
        {
          "output_type": "stream",
          "name": "stdout",
          "text": [
            "Hello Naresh 789\n"
          ]
        }
      ],
      "source": [
        "print(\"Hello\",\"Naresh\",789,sep=\" \")"
      ]
    },
    {
      "cell_type": "code",
      "source": [
        "print('\"warangal\"')\n",
        "print(\"\\\"warangal\\\"\")"
      ],
      "metadata": {
        "id": "3Ls7agQZWiJe",
        "outputId": "7fd9deca-ccda-4c6d-f0d8-c47e59e6041e",
        "colab": {
          "base_uri": "https://localhost:8080/"
        }
      },
      "execution_count": 2,
      "outputs": [
        {
          "output_type": "stream",
          "name": "stdout",
          "text": [
            "\"warangal\"\n",
            "\"warangal\"\n"
          ]
        }
      ]
    },
    {
      "cell_type": "code",
      "source": [
        "print(\"that's\")"
      ],
      "metadata": {
        "id": "GJ-QqSr4W3ln",
        "outputId": "557ce455-9b84-4e8e-d5e2-ca0e043b30aa",
        "colab": {
          "base_uri": "https://localhost:8080/"
        }
      },
      "execution_count": 3,
      "outputs": [
        {
          "output_type": "stream",
          "name": "stdout",
          "text": [
            "that's\n"
          ]
        }
      ]
    },
    {
      "cell_type": "code",
      "source": [
        "print(\"\\n Good Morning\",\" \\n\\tGood Afternoon\",\"\\n\\t\\t Good Evening\",\"\\n\\t\\t\\tGood nyt\")"
      ],
      "metadata": {
        "id": "3ySxTyvAXHVA",
        "outputId": "dc6483ad-1c34-4849-9c94-a61147e0002a",
        "colab": {
          "base_uri": "https://localhost:8080/"
        }
      },
      "execution_count": 6,
      "outputs": [
        {
          "output_type": "stream",
          "name": "stdout",
          "text": [
            "\n",
            " Good Morning  \n",
            "\tGood Afternoon \n",
            "\t\t Good Evening \n",
            "\t\t\tGood nyt\n"
          ]
        }
      ]
    },
    {
      "cell_type": "code",
      "source": [
        "print(\"Hi\\nWorld\\n\\t\\tNew\\n\\t\\t\\tBeginning\")"
      ],
      "metadata": {
        "id": "er-7K7LkZHTy",
        "outputId": "5d9d1bc3-5102-4b40-8b02-557cdc541e4d",
        "colab": {
          "base_uri": "https://localhost:8080/"
        }
      },
      "execution_count": 11,
      "outputs": [
        {
          "output_type": "stream",
          "name": "stdout",
          "text": [
            "Hi\n",
            "World\n",
            "\t\tNew\n",
            "\t\t\tBeginning\n"
          ]
        }
      ]
    }
  ]
}