{
  "nbformat": 4,
  "nbformat_minor": 0,
  "metadata": {
    "colab": {
      "provenance": [],
      "collapsed_sections": [],
      "authorship_tag": "ABX9TyPU4GDm1PW1CpkGj+FWk1IC",
      "include_colab_link": true
    },
    "kernelspec": {
      "name": "python3",
      "display_name": "Python 3"
    },
    "language_info": {
      "name": "python"
    }
  },
  "cells": [
    {
      "cell_type": "markdown",
      "metadata": {
        "id": "view-in-github",
        "colab_type": "text"
      },
      "source": [
        "<a href=\"https://colab.research.google.com/github/shruthib9/python/blob/main/Python1.ipynb\" target=\"_parent\"><img src=\"https://colab.research.google.com/assets/colab-badge.svg\" alt=\"Open In Colab\"/></a>"
      ]
    },
    {
      "cell_type": "code",
      "execution_count": 1,
      "metadata": {
        "colab": {
          "base_uri": "https://localhost:8080/"
        },
        "id": "cQD0IHv2M-xf",
        "outputId": "80c8e4d5-2c7e-41a1-bd22-097fef0cefbf"
      },
      "outputs": [
        {
          "output_type": "stream",
          "name": "stdout",
          "text": [
            "hwllo\n"
          ]
        }
      ],
      "source": [
        "print(\"hwllo\")"
      ]
    },
    {
      "cell_type": "code",
      "source": [
        "# Add Two Numbers:\n",
        "\n"
      ],
      "metadata": {
        "id": "EnYDu27sOux-"
      },
      "execution_count": null,
      "outputs": []
    }
  ]
}